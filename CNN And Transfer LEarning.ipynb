{
 "cells": [
  {
   "cell_type": "markdown",
   "metadata": {},
   "source": [
    "## Creating CNN Using Scratch And Transfer Learning"
   ]
  },
  {
   "cell_type": "markdown",
   "metadata": {},
   "source": [
    "Please download the dataset from the below url"
   ]
  },
  {
   "cell_type": "code",
   "execution_count": 38,
   "metadata": {},
   "outputs": [],
   "source": [
    "# import the libraries as shown below\n",
    "\n",
    "from tensorflow.keras.layers import Input, Lambda, Dense, Flatten,Conv2D\n",
    "from tensorflow.keras.models import Model\n",
    "from tensorflow.keras.applications.vgg19 import VGG19\n",
    "from tensorflow.keras.applications.resnet50 import preprocess_input\n",
    "from tensorflow.keras.preprocessing import image\n",
    "from tensorflow.keras.preprocessing.image import ImageDataGenerator,load_img\n",
    "from tensorflow.keras.models import Sequential\n",
    "import numpy as np\n",
    "from glob import glob\n",
    "import matplotlib.pyplot as plt"
   ]
  },
  {
   "cell_type": "code",
   "execution_count": 39,
   "metadata": {},
   "outputs": [],
   "source": [
    "# re-size all the images to this\n",
    "IMAGE_SIZE = [224, 224]\n",
    "\n",
    "train_path = 'cell_images/Train'\n",
    "valid_path = 'cell_images/Test'\n"
   ]
  },
  {
   "cell_type": "code",
   "execution_count": 40,
   "metadata": {},
   "outputs": [],
   "source": [
    "# Import the Vgg 16 library as shown below and add preprocessing layer to the front of VGG\n",
    "# Here we will be using imagenet weights\n",
    "\n",
    "mobilnet = VGG19(input_shape=IMAGE_SIZE + [3], weights='imagenet', include_top=False)\n",
    "\n",
    "\n"
   ]
  },
  {
   "cell_type": "code",
   "execution_count": 41,
   "metadata": {},
   "outputs": [],
   "source": [
    "# don't train existing weights\n",
    "for layer in mobilnet.layers:\n",
    "    layer.trainable = False"
   ]
  },
  {
   "cell_type": "code",
   "execution_count": 42,
   "metadata": {},
   "outputs": [],
   "source": [
    "  # useful for getting number of output classes\n",
    "folders = glob('C:/Users/Jospin/Documents/DL Project/Malaria Prediction/Dataset/Train/*')"
   ]
  },
  {
   "cell_type": "code",
   "execution_count": 43,
   "metadata": {},
   "outputs": [
    {
     "data": {
      "text/plain": [
       "['C:/Users/Jospin/Documents/DL Project/Malaria Prediction/Dataset/Train\\\\Parasite',\n",
       " 'C:/Users/Jospin/Documents/DL Project/Malaria Prediction/Dataset/Train\\\\Uninfected']"
      ]
     },
     "execution_count": 43,
     "metadata": {},
     "output_type": "execute_result"
    }
   ],
   "source": [
    "folders"
   ]
  },
  {
   "cell_type": "code",
   "execution_count": 44,
   "metadata": {},
   "outputs": [],
   "source": [
    "# our layers - you can add more if you want\n",
    "x = Flatten()(mobilnet.output)"
   ]
  },
  {
   "cell_type": "code",
   "execution_count": 45,
   "metadata": {},
   "outputs": [],
   "source": [
    "prediction = Dense(len(folders), activation='softmax')(x)\n",
    "\n",
    "# create a model object\n",
    "model = Model(inputs=mobilnet.input, outputs=prediction)"
   ]
  },
  {
   "cell_type": "code",
   "execution_count": 46,
   "metadata": {},
   "outputs": [
    {
     "name": "stdout",
     "output_type": "stream",
     "text": [
      "Model: \"model_1\"\n",
      "_________________________________________________________________\n",
      " Layer (type)                Output Shape              Param #   \n",
      "=================================================================\n",
      " input_2 (InputLayer)        [(None, 224, 224, 3)]     0         \n",
      "                                                                 \n",
      " block1_conv1 (Conv2D)       (None, 224, 224, 64)      1792      \n",
      "                                                                 \n",
      " block1_conv2 (Conv2D)       (None, 224, 224, 64)      36928     \n",
      "                                                                 \n",
      " block1_pool (MaxPooling2D)  (None, 112, 112, 64)      0         \n",
      "                                                                 \n",
      " block2_conv1 (Conv2D)       (None, 112, 112, 128)     73856     \n",
      "                                                                 \n",
      " block2_conv2 (Conv2D)       (None, 112, 112, 128)     147584    \n",
      "                                                                 \n",
      " block2_pool (MaxPooling2D)  (None, 56, 56, 128)       0         \n",
      "                                                                 \n",
      " block3_conv1 (Conv2D)       (None, 56, 56, 256)       295168    \n",
      "                                                                 \n",
      " block3_conv2 (Conv2D)       (None, 56, 56, 256)       590080    \n",
      "                                                                 \n",
      " block3_conv3 (Conv2D)       (None, 56, 56, 256)       590080    \n",
      "                                                                 \n",
      " block3_conv4 (Conv2D)       (None, 56, 56, 256)       590080    \n",
      "                                                                 \n",
      " block3_pool (MaxPooling2D)  (None, 28, 28, 256)       0         \n",
      "                                                                 \n",
      " block4_conv1 (Conv2D)       (None, 28, 28, 512)       1180160   \n",
      "                                                                 \n",
      " block4_conv2 (Conv2D)       (None, 28, 28, 512)       2359808   \n",
      "                                                                 \n",
      " block4_conv3 (Conv2D)       (None, 28, 28, 512)       2359808   \n",
      "                                                                 \n",
      " block4_conv4 (Conv2D)       (None, 28, 28, 512)       2359808   \n",
      "                                                                 \n",
      " block4_pool (MaxPooling2D)  (None, 14, 14, 512)       0         \n",
      "                                                                 \n",
      " block5_conv1 (Conv2D)       (None, 14, 14, 512)       2359808   \n",
      "                                                                 \n",
      " block5_conv2 (Conv2D)       (None, 14, 14, 512)       2359808   \n",
      "                                                                 \n",
      " block5_conv3 (Conv2D)       (None, 14, 14, 512)       2359808   \n",
      "                                                                 \n",
      " block5_conv4 (Conv2D)       (None, 14, 14, 512)       2359808   \n",
      "                                                                 \n",
      " block5_pool (MaxPooling2D)  (None, 7, 7, 512)         0         \n",
      "                                                                 \n",
      " flatten_2 (Flatten)         (None, 25088)             0         \n",
      "                                                                 \n",
      " dense_3 (Dense)             (None, 2)                 50178     \n",
      "                                                                 \n",
      "=================================================================\n",
      "Total params: 20,074,562\n",
      "Trainable params: 50,178\n",
      "Non-trainable params: 20,024,384\n",
      "_________________________________________________________________\n"
     ]
    }
   ],
   "source": [
    "\n",
    "# view the structure of the model\n",
    "model.summary()\n"
   ]
  },
  {
   "cell_type": "code",
   "execution_count": 47,
   "metadata": {},
   "outputs": [],
   "source": [
    "from tensorflow.keras.layers import MaxPooling2D"
   ]
  },
  {
   "cell_type": "code",
   "execution_count": 48,
   "metadata": {},
   "outputs": [
    {
     "name": "stdout",
     "output_type": "stream",
     "text": [
      "Model: \"sequential_1\"\n",
      "_________________________________________________________________\n",
      " Layer (type)                Output Shape              Param #   \n",
      "=================================================================\n",
      " conv2d_3 (Conv2D)           (None, 224, 224, 16)      208       \n",
      "                                                                 \n",
      " max_pooling2d_3 (MaxPooling  (None, 112, 112, 16)     0         \n",
      " 2D)                                                             \n",
      "                                                                 \n",
      " conv2d_4 (Conv2D)           (None, 112, 112, 32)      2080      \n",
      "                                                                 \n",
      " max_pooling2d_4 (MaxPooling  (None, 56, 56, 32)       0         \n",
      " 2D)                                                             \n",
      "                                                                 \n",
      " conv2d_5 (Conv2D)           (None, 56, 56, 64)        8256      \n",
      "                                                                 \n",
      " max_pooling2d_5 (MaxPooling  (None, 28, 28, 64)       0         \n",
      " 2D)                                                             \n",
      "                                                                 \n",
      " flatten_3 (Flatten)         (None, 50176)             0         \n",
      "                                                                 \n",
      " dense_4 (Dense)             (None, 500)               25088500  \n",
      "                                                                 \n",
      " dense_5 (Dense)             (None, 2)                 1002      \n",
      "                                                                 \n",
      "=================================================================\n",
      "Total params: 25,100,046\n",
      "Trainable params: 25,100,046\n",
      "Non-trainable params: 0\n",
      "_________________________________________________________________\n"
     ]
    }
   ],
   "source": [
    "### Create Model from scratch using CNN\n",
    "model=Sequential()\n",
    "model.add(Conv2D(filters=16,kernel_size=2,padding=\"same\",activation=\"relu\",input_shape=(224,224,3)))\n",
    "model.add(MaxPooling2D(pool_size=2))\n",
    "model.add(Conv2D(filters=32,kernel_size=2,padding=\"same\",activation =\"relu\"))\n",
    "model.add(MaxPooling2D(pool_size=2))\n",
    "model.add(Conv2D(filters=64,kernel_size=2,padding=\"same\",activation=\"relu\"))\n",
    "model.add(MaxPooling2D(pool_size=2))\n",
    "model.add(Flatten())\n",
    "model.add(Dense(500,activation=\"relu\"))\n",
    "model.add(Dense(2,activation=\"softmax\"))\n",
    "model.summary()"
   ]
  },
  {
   "cell_type": "code",
   "execution_count": 49,
   "metadata": {},
   "outputs": [],
   "source": [
    "# tell the model what cost and optimization method to use\n",
    "model.compile(\n",
    "  loss='categorical_crossentropy',\n",
    "  optimizer='adam',\n",
    "  metrics=['accuracy']\n",
    ")\n"
   ]
  },
  {
   "cell_type": "code",
   "execution_count": 50,
   "metadata": {},
   "outputs": [],
   "source": [
    "# Use the Image Data Generator to import the images from the dataset\n",
    "from tensorflow.keras.preprocessing.image import ImageDataGenerator\n",
    "\n",
    "train_datagen = ImageDataGenerator(rescale = 1./255,\n",
    "                                   shear_range = 0.2,\n",
    "                                   zoom_range = 0.2,\n",
    "                                   horizontal_flip = True)\n",
    "\n",
    "test_datagen = ImageDataGenerator(rescale = 1./255)"
   ]
  },
  {
   "cell_type": "code",
   "execution_count": 51,
   "metadata": {},
   "outputs": [
    {
     "name": "stdout",
     "output_type": "stream",
     "text": [
      "Found 416 images belonging to 2 classes.\n"
     ]
    }
   ],
   "source": [
    "# Make sure you provide the same target size as initialied for the image size\n",
    "training_set = train_datagen.flow_from_directory('C:/Users/Jospin/Documents/DL Project/Malaria Prediction/Dataset/Train',\n",
    "                                                 target_size = (224, 224),\n",
    "                                                 batch_size = 32,\n",
    "                                                 class_mode = 'categorical')"
   ]
  },
  {
   "cell_type": "code",
   "execution_count": 52,
   "metadata": {},
   "outputs": [
    {
     "data": {
      "text/plain": [
       "<keras.preprocessing.image.DirectoryIterator at 0x273b01d3370>"
      ]
     },
     "execution_count": 52,
     "metadata": {},
     "output_type": "execute_result"
    }
   ],
   "source": [
    "training_set"
   ]
  },
  {
   "cell_type": "code",
   "execution_count": 53,
   "metadata": {},
   "outputs": [
    {
     "name": "stdout",
     "output_type": "stream",
     "text": [
      "Found 134 images belonging to 2 classes.\n"
     ]
    }
   ],
   "source": [
    "test_set = test_datagen.flow_from_directory('C:/Users/Jospin/Documents/DL Project/Malaria Prediction/Dataset/Test',\n",
    "                                            target_size = (224, 224),\n",
    "                                            batch_size = 32,\n",
    "                                            class_mode = 'categorical')"
   ]
  },
  {
   "cell_type": "code",
   "execution_count": 54,
   "metadata": {
    "scrolled": true
   },
   "outputs": [
    {
     "name": "stderr",
     "output_type": "stream",
     "text": [
      "C:\\Users\\Jospin\\AppData\\Local\\Temp/ipykernel_17852/4130870686.py:3: UserWarning: `Model.fit_generator` is deprecated and will be removed in a future version. Please use `Model.fit`, which supports generators.\n",
      "  r = model.fit_generator(\n"
     ]
    },
    {
     "name": "stdout",
     "output_type": "stream",
     "text": [
      "Epoch 1/20\n",
      "13/13 [==============================] - 18s 1s/step - loss: 3.1869 - accuracy: 0.4976 - val_loss: 0.6408 - val_accuracy: 0.6791\n",
      "Epoch 2/20\n",
      "13/13 [==============================] - 17s 1s/step - loss: 0.6890 - accuracy: 0.5361 - val_loss: 0.6836 - val_accuracy: 0.5522\n",
      "Epoch 3/20\n",
      "13/13 [==============================] - 17s 1s/step - loss: 0.6433 - accuracy: 0.6178 - val_loss: 0.7539 - val_accuracy: 0.3358\n",
      "Epoch 4/20\n",
      "13/13 [==============================] - 17s 1s/step - loss: 0.5330 - accuracy: 0.7380 - val_loss: 0.8816 - val_accuracy: 0.2910\n",
      "Epoch 5/20\n",
      "13/13 [==============================] - 17s 1s/step - loss: 0.4767 - accuracy: 0.7644 - val_loss: 1.0269 - val_accuracy: 0.6642\n",
      "Epoch 6/20\n",
      "13/13 [==============================] - 17s 1s/step - loss: 0.4610 - accuracy: 0.7837 - val_loss: 0.9062 - val_accuracy: 0.3731\n",
      "Epoch 7/20\n",
      "13/13 [==============================] - 17s 1s/step - loss: 0.3707 - accuracy: 0.8173 - val_loss: 0.8733 - val_accuracy: 0.4328\n",
      "Epoch 8/20\n",
      "13/13 [==============================] - 17s 1s/step - loss: 0.3710 - accuracy: 0.8317 - val_loss: 0.9168 - val_accuracy: 0.4925\n",
      "Epoch 9/20\n",
      "13/13 [==============================] - 17s 1s/step - loss: 0.3300 - accuracy: 0.8774 - val_loss: 0.6993 - val_accuracy: 0.6119\n",
      "Epoch 10/20\n",
      "13/13 [==============================] - 17s 1s/step - loss: 0.2680 - accuracy: 0.9183 - val_loss: 0.7611 - val_accuracy: 0.5896\n",
      "Epoch 11/20\n",
      "13/13 [==============================] - 17s 1s/step - loss: 0.2452 - accuracy: 0.9135 - val_loss: 0.6124 - val_accuracy: 0.6642\n",
      "Epoch 12/20\n",
      "13/13 [==============================] - 19s 1s/step - loss: 0.2111 - accuracy: 0.9135 - val_loss: 0.6498 - val_accuracy: 0.6567\n",
      "Epoch 13/20\n",
      "13/13 [==============================] - 18s 1s/step - loss: 0.2017 - accuracy: 0.9351 - val_loss: 0.4128 - val_accuracy: 0.7836\n",
      "Epoch 14/20\n",
      "13/13 [==============================] - 18s 1s/step - loss: 0.1919 - accuracy: 0.9231 - val_loss: 0.5144 - val_accuracy: 0.7388\n",
      "Epoch 15/20\n",
      "13/13 [==============================] - 18s 1s/step - loss: 0.1589 - accuracy: 0.9447 - val_loss: 0.3227 - val_accuracy: 0.8433\n",
      "Epoch 16/20\n",
      "13/13 [==============================] - 18s 1s/step - loss: 0.1422 - accuracy: 0.9591 - val_loss: 0.3980 - val_accuracy: 0.8284\n",
      "Epoch 17/20\n",
      "13/13 [==============================] - 18s 1s/step - loss: 0.1578 - accuracy: 0.9495 - val_loss: 0.2695 - val_accuracy: 0.8955\n",
      "Epoch 18/20\n",
      "13/13 [==============================] - 18s 1s/step - loss: 0.1392 - accuracy: 0.9615 - val_loss: 0.3342 - val_accuracy: 0.8582\n",
      "Epoch 19/20\n",
      "13/13 [==============================] - 18s 1s/step - loss: 0.1455 - accuracy: 0.9519 - val_loss: 0.3198 - val_accuracy: 0.8433\n",
      "Epoch 20/20\n",
      "13/13 [==============================] - 18s 1s/step - loss: 0.1221 - accuracy: 0.9712 - val_loss: 0.3176 - val_accuracy: 0.8209\n"
     ]
    }
   ],
   "source": [
    "# fit the model\n",
    "# Run the cell. It will take some time to execute\n",
    "r = model.fit_generator(\n",
    "  training_set,\n",
    "  validation_data=test_set,\n",
    "  epochs=20,\n",
    "  steps_per_epoch=len(training_set),\n",
    "  validation_steps=len(test_set)\n",
    ")"
   ]
  },
  {
   "cell_type": "code",
   "execution_count": null,
   "metadata": {},
   "outputs": [],
   "source": []
  },
  {
   "cell_type": "code",
   "execution_count": 55,
   "metadata": {},
   "outputs": [
    {
     "data": {
      "image/png": "[encoded data removed]",
      "text/plain": [
       "<Figure size 432x288 with 1 Axes>"
      ]
     },
     "metadata": {
      "needs_background": "light"
     },
     "output_type": "display_data"
    },
    {
     "data": {
      "image/png": "[encoded data removed]",
      "text/plain": [
       "<Figure size 432x288 with 1 Axes>"
      ]
     },
     "metadata": {
      "needs_background": "light"
     },
     "output_type": "display_data"
    },
    {
     "data": {
      "text/plain": [
       "<Figure size 432x288 with 0 Axes>"
      ]
     },
     "metadata": {},
     "output_type": "display_data"
    }
   ],
   "source": [
    "# plot the loss\n",
    "plt.plot(r.history['loss'], label='train loss')\n",
    "plt.plot(r.history['val_loss'], label='val loss')\n",
    "plt.legend()\n",
    "plt.show()\n",
    "plt.savefig('LossVal_loss')\n",
    "\n",
    "# plot the accuracy\n",
    "plt.plot(r.history['accuracy'], label='train acc')\n",
    "plt.plot(r.history['val_accuracy'], label='val acc')\n",
    "plt.legend()\n",
    "plt.show()\n",
    "plt.savefig('AccVal_acc')"
   ]
  },
  {
   "cell_type": "code",
   "execution_count": 56,
   "metadata": {},
   "outputs": [],
   "source": [
    "# save it as a h5 file\n",
    "\n",
    "\n",
    "from tensorflow.keras.models import load_model\n",
    "\n",
    "model.save('model_vgg19.h5')"
   ]
  },
  {
   "cell_type": "code",
   "execution_count": null,
   "metadata": {},
   "outputs": [],
   "source": []
  },
  {
   "cell_type": "code",
   "execution_count": 57,
   "metadata": {},
   "outputs": [],
   "source": [
    "\n",
    "y_pred = model.predict(test_set)\n"
   ]
  },
  {
   "cell_type": "code",
   "execution_count": 58,
   "metadata": {},
   "outputs": [
    {
     "data": {
      "text/plain": [
       "array([[9.99909401e-01, 9.05494744e-05],\n",
       "       [6.35451794e-01, 3.64548206e-01],\n",
       "       [3.07298422e-01, 6.92701578e-01],\n",
       "       [8.33385959e-02, 9.16661441e-01],\n",
       "       [9.99989033e-01, 1.09799812e-05],\n",
       "       [1.48434997e-01, 8.51565063e-01],\n",
       "       [9.87892270e-01, 1.21077178e-02],\n",
       "       [6.00075498e-02, 9.39992428e-01],\n",
       "       [1.54048994e-01, 8.45951080e-01],\n",
       "       [9.88138258e-01, 1.18617639e-02],\n",
       "       [2.20673561e-01, 7.79326439e-01],\n",
       "       [2.02062860e-01, 7.97937155e-01],\n",
       "       [7.05127195e-02, 9.29487288e-01],\n",
       "       [9.99828339e-01, 1.71674154e-04],\n",
       "       [9.98239875e-01, 1.76015729e-03],\n",
       "       [9.99397397e-01, 6.02645276e-04],\n",
       "       [3.87681276e-01, 6.12318695e-01],\n",
       "       [9.11550581e-01, 8.84494260e-02],\n",
       "       [5.80349803e-01, 4.19650227e-01],\n",
       "       [9.97266531e-01, 2.73343152e-03],\n",
       "       [9.58189964e-01, 4.18100692e-02],\n",
       "       [9.99453723e-01, 5.46279596e-04],\n",
       "       [5.24435565e-02, 9.47556436e-01],\n",
       "       [2.41476446e-01, 7.58523583e-01],\n",
       "       [4.25063930e-02, 9.57493603e-01],\n",
       "       [5.55786014e-01, 4.44213957e-01],\n",
       "       [1.06553562e-01, 8.93446445e-01],\n",
       "       [9.99998093e-01, 1.88821741e-06],\n",
       "       [5.01027167e-01, 4.98972774e-01],\n",
       "       [3.92193943e-01, 6.07806087e-01],\n",
       "       [1.00000000e+00, 4.92312893e-08],\n",
       "       [9.92545664e-01, 7.45429751e-03],\n",
       "       [9.50570285e-01, 4.94297147e-02],\n",
       "       [3.90485942e-01, 6.09514058e-01],\n",
       "       [8.28216255e-01, 1.71783790e-01],\n",
       "       [7.07673252e-01, 2.92326748e-01],\n",
       "       [4.06664878e-01, 5.93335152e-01],\n",
       "       [1.25868246e-01, 8.74131739e-01],\n",
       "       [9.99920130e-01, 7.98043257e-05],\n",
       "       [1.00000000e+00, 8.85107898e-09],\n",
       "       [9.99892831e-01, 1.07208194e-04],\n",
       "       [2.07484797e-01, 7.92515218e-01],\n",
       "       [1.37983561e-01, 8.62016439e-01],\n",
       "       [9.86390352e-01, 1.36096552e-02],\n",
       "       [5.11656441e-02, 9.48834419e-01],\n",
       "       [9.36562419e-01, 6.34375140e-02],\n",
       "       [4.63623852e-01, 5.36376178e-01],\n",
       "       [1.18132606e-01, 8.81867349e-01],\n",
       "       [9.98026788e-01, 1.97312981e-03],\n",
       "       [6.61578774e-01, 3.38421196e-01],\n",
       "       [2.11310208e-01, 7.88689792e-01],\n",
       "       [1.06225029e-01, 8.93774986e-01],\n",
       "       [9.90660965e-01, 9.33902245e-03],\n",
       "       [9.97789621e-01, 2.21035257e-03],\n",
       "       [3.91989142e-01, 6.08010888e-01],\n",
       "       [1.56167284e-01, 8.43832672e-01],\n",
       "       [9.99950528e-01, 4.94464075e-05],\n",
       "       [8.96205187e-01, 1.03794791e-01],\n",
       "       [5.30325919e-02, 9.46967483e-01],\n",
       "       [5.79838455e-02, 9.42016184e-01],\n",
       "       [6.33054376e-02, 9.36694503e-01],\n",
       "       [9.95103836e-01, 4.89619980e-03],\n",
       "       [2.35507116e-02, 9.76449251e-01],\n",
       "       [2.91994184e-01, 7.08005905e-01],\n",
       "       [9.33637738e-01, 6.63622916e-02],\n",
       "       [1.18537195e-01, 8.81462753e-01],\n",
       "       [2.28662357e-01, 7.71337688e-01],\n",
       "       [9.94482398e-01, 5.51764341e-03],\n",
       "       [9.75970268e-01, 2.40296759e-02],\n",
       "       [4.77424622e-01, 5.22575378e-01],\n",
       "       [9.99963164e-01, 3.68092551e-05],\n",
       "       [9.43940878e-01, 5.60591146e-02],\n",
       "       [3.40836346e-02, 9.65916395e-01],\n",
       "       [2.52010018e-01, 7.47989953e-01],\n",
       "       [4.44144726e-01, 5.55855215e-01],\n",
       "       [9.99833703e-01, 1.66222366e-04],\n",
       "       [9.99978662e-01, 2.13857638e-05],\n",
       "       [9.99999642e-01, 4.08788026e-07],\n",
       "       [1.78580537e-01, 8.21419418e-01],\n",
       "       [9.74060059e-01, 2.59399600e-02],\n",
       "       [3.95017415e-01, 6.04982555e-01],\n",
       "       [9.98354614e-01, 1.64532650e-03],\n",
       "       [2.23581463e-01, 7.76418567e-01],\n",
       "       [1.10347673e-01, 8.89652312e-01],\n",
       "       [1.37197867e-01, 8.62802207e-01],\n",
       "       [1.30772352e-01, 8.69227588e-01],\n",
       "       [9.98917937e-01, 1.08208787e-03],\n",
       "       [9.99752700e-01, 2.47305259e-04],\n",
       "       [9.99630451e-01, 3.69585236e-04],\n",
       "       [9.99999881e-01, 1.75823800e-07],\n",
       "       [9.48172882e-02, 9.05182719e-01],\n",
       "       [6.00301206e-01, 3.99698824e-01],\n",
       "       [4.64022130e-01, 5.35977900e-01],\n",
       "       [2.06914261e-01, 7.93085814e-01],\n",
       "       [9.94866252e-01, 5.13377041e-03],\n",
       "       [9.74007785e-01, 2.59921867e-02],\n",
       "       [1.04994074e-01, 8.95005941e-01],\n",
       "       [9.81755137e-01, 1.82448197e-02],\n",
       "       [3.72505486e-01, 6.27494514e-01],\n",
       "       [9.99634027e-01, 3.65935208e-04],\n",
       "       [2.11159647e-01, 7.88840353e-01],\n",
       "       [9.90084052e-01, 9.91591159e-03],\n",
       "       [1.00000000e+00, 7.17281345e-09],\n",
       "       [9.98183429e-01, 1.81654631e-03],\n",
       "       [1.81945473e-01, 8.18054557e-01],\n",
       "       [5.49418703e-02, 9.45058107e-01],\n",
       "       [9.54489052e-01, 4.55109216e-02],\n",
       "       [1.40704334e-01, 8.59295607e-01],\n",
       "       [9.24169779e-01, 7.58302435e-02],\n",
       "       [9.83345747e-01, 1.66541971e-02],\n",
       "       [2.42604375e-01, 7.57395625e-01],\n",
       "       [9.99336183e-01, 6.63801096e-04],\n",
       "       [1.27201408e-01, 8.72798622e-01],\n",
       "       [9.47337985e-01, 5.26619293e-02],\n",
       "       [1.48628220e-01, 8.51371765e-01],\n",
       "       [8.82515237e-02, 9.11748409e-01],\n",
       "       [2.23381504e-01, 7.76618481e-01],\n",
       "       [8.65449309e-01, 1.34550661e-01],\n",
       "       [9.99675632e-01, 3.24398745e-04],\n",
       "       [9.99948382e-01, 5.16056862e-05],\n",
       "       [9.08757627e-01, 9.12423804e-02],\n",
       "       [9.79973912e-01, 2.00261381e-02],\n",
       "       [9.95473564e-01, 4.52636648e-03],\n",
       "       [5.72450578e-01, 4.27549452e-01],\n",
       "       [8.73608232e-01, 1.26391739e-01],\n",
       "       [9.98659611e-01, 1.34041556e-03],\n",
       "       [4.06258553e-01, 5.93741417e-01],\n",
       "       [6.47039473e-01, 3.52960497e-01],\n",
       "       [9.99826491e-01, 1.73517343e-04],\n",
       "       [9.97312427e-01, 2.68764817e-03],\n",
       "       [3.16909999e-01, 6.83089972e-01],\n",
       "       [8.31638277e-01, 1.68361723e-01],\n",
       "       [6.12121224e-02, 9.38787937e-01],\n",
       "       [5.85613810e-02, 9.41438615e-01]], dtype=float32)"
      ]
     },
     "execution_count": 58,
     "metadata": {},
     "output_type": "execute_result"
    }
   ],
   "source": [
    "y_pred"
   ]
  },
  {
   "cell_type": "code",
   "execution_count": 59,
   "metadata": {},
   "outputs": [],
   "source": [
    "import numpy as np\n",
    "y_pred = np.argmax(y_pred, axis=1)"
   ]
  },
  {
   "cell_type": "code",
   "execution_count": 60,
   "metadata": {},
   "outputs": [
    {
     "data": {
      "text/plain": [
       "array([0, 0, 1, 1, 0, 1, 0, 1, 1, 0, 1, 1, 1, 0, 0, 0, 1, 0, 0, 0, 0, 0,\n",
       "       1, 1, 1, 0, 1, 0, 0, 1, 0, 0, 0, 1, 0, 0, 1, 1, 0, 0, 0, 1, 1, 0,\n",
       "       1, 0, 1, 1, 0, 0, 1, 1, 0, 0, 1, 1, 0, 0, 1, 1, 1, 0, 1, 1, 0, 1,\n",
       "       1, 0, 0, 1, 0, 0, 1, 1, 1, 0, 0, 0, 1, 0, 1, 0, 1, 1, 1, 1, 0, 0,\n",
       "       0, 0, 1, 0, 1, 1, 0, 0, 1, 0, 1, 0, 1, 0, 0, 0, 1, 1, 0, 1, 0, 0,\n",
       "       1, 0, 1, 0, 1, 1, 1, 0, 0, 0, 0, 0, 0, 0, 0, 0, 1, 0, 0, 0, 1, 0,\n",
       "       1, 1], dtype=int64)"
      ]
     },
     "execution_count": 60,
     "metadata": {},
     "output_type": "execute_result"
    }
   ],
   "source": [
    "y_pred"
   ]
  },
  {
   "cell_type": "code",
   "execution_count": null,
   "metadata": {},
   "outputs": [],
   "source": []
  },
  {
   "cell_type": "code",
   "execution_count": 61,
   "metadata": {},
   "outputs": [],
   "source": [
    "from tensorflow.keras.models import load_model\n",
    "from tensorflow.keras.preprocessing import image"
   ]
  },
  {
   "cell_type": "code",
   "execution_count": 62,
   "metadata": {},
   "outputs": [],
   "source": [
    "model=load_model('model_vgg19.h5')"
   ]
  },
  {
   "cell_type": "code",
   "execution_count": null,
   "metadata": {},
   "outputs": [],
   "source": []
  },
  {
   "cell_type": "code",
   "execution_count": 63,
   "metadata": {},
   "outputs": [],
   "source": [
    "img=image.load_img('C:/Users/Jospin/Documents/DL Project/Malaria Prediction/Dataset/Test/Uninfected/2.png',target_size=(224,224))\n",
    "\n"
   ]
  },
  {
   "cell_type": "code",
   "execution_count": 64,
   "metadata": {},
   "outputs": [
    {
     "data": {
      "text/plain": [
       "array([[[0., 0., 0.],\n",
       "        [0., 0., 0.],\n",
       "        [0., 0., 0.],\n",
       "        ...,\n",
       "        [0., 0., 0.],\n",
       "        [0., 0., 0.],\n",
       "        [0., 0., 0.]],\n",
       "\n",
       "       [[0., 0., 0.],\n",
       "        [0., 0., 0.],\n",
       "        [0., 0., 0.],\n",
       "        ...,\n",
       "        [0., 0., 0.],\n",
       "        [0., 0., 0.],\n",
       "        [0., 0., 0.]],\n",
       "\n",
       "       [[0., 0., 0.],\n",
       "        [0., 0., 0.],\n",
       "        [0., 0., 0.],\n",
       "        ...,\n",
       "        [0., 0., 0.],\n",
       "        [0., 0., 0.],\n",
       "        [0., 0., 0.]],\n",
       "\n",
       "       ...,\n",
       "\n",
       "       [[0., 0., 0.],\n",
       "        [0., 0., 0.],\n",
       "        [0., 0., 0.],\n",
       "        ...,\n",
       "        [0., 0., 0.],\n",
       "        [0., 0., 0.],\n",
       "        [0., 0., 0.]],\n",
       "\n",
       "       [[0., 0., 0.],\n",
       "        [0., 0., 0.],\n",
       "        [0., 0., 0.],\n",
       "        ...,\n",
       "        [0., 0., 0.],\n",
       "        [0., 0., 0.],\n",
       "        [0., 0., 0.]],\n",
       "\n",
       "       [[0., 0., 0.],\n",
       "        [0., 0., 0.],\n",
       "        [0., 0., 0.],\n",
       "        ...,\n",
       "        [0., 0., 0.],\n",
       "        [0., 0., 0.],\n",
       "        [0., 0., 0.]]], dtype=float32)"
      ]
     },
     "execution_count": 64,
     "metadata": {},
     "output_type": "execute_result"
    }
   ],
   "source": [
    "x=image.img_to_array(img)\n",
    "x"
   ]
  },
  {
   "cell_type": "code",
   "execution_count": 65,
   "metadata": {},
   "outputs": [
    {
     "data": {
      "text/plain": [
       "(224, 224, 3)"
      ]
     },
     "execution_count": 65,
     "metadata": {},
     "output_type": "execute_result"
    }
   ],
   "source": [
    "x.shape"
   ]
  },
  {
   "cell_type": "code",
   "execution_count": 66,
   "metadata": {},
   "outputs": [],
   "source": [
    "x=x/255"
   ]
  },
  {
   "cell_type": "code",
   "execution_count": 67,
   "metadata": {},
   "outputs": [
    {
     "data": {
      "text/plain": [
       "(1, 224, 224, 3)"
      ]
     },
     "execution_count": 67,
     "metadata": {},
     "output_type": "execute_result"
    }
   ],
   "source": [
    "x=np.expand_dims(x,axis=0)\n",
    "img_data=preprocess_input(x)\n",
    "img_data.shape"
   ]
  },
  {
   "cell_type": "code",
   "execution_count": 68,
   "metadata": {},
   "outputs": [
    {
     "data": {
      "text/plain": [
       "array([[1., 0.]], dtype=float32)"
      ]
     },
     "execution_count": 68,
     "metadata": {},
     "output_type": "execute_result"
    }
   ],
   "source": [
    "model.predict(img_data)"
   ]
  },
  {
   "cell_type": "code",
   "execution_count": 69,
   "metadata": {},
   "outputs": [],
   "source": [
    "a=np.argmax(model.predict(img_data), axis=1)"
   ]
  },
  {
   "cell_type": "code",
   "execution_count": 70,
   "metadata": {},
   "outputs": [
    {
     "name": "stdout",
     "output_type": "stream",
     "text": [
      "Infected\n"
     ]
    }
   ],
   "source": [
    "if(a==1):\n",
    "    print(\"Uninfected\")\n",
    "else:\n",
    "    print(\"Infected\")"
   ]
  },
  {
   "cell_type": "code",
   "execution_count": null,
   "metadata": {},
   "outputs": [],
   "source": []
  },
  {
   "cell_type": "code",
   "execution_count": null,
   "metadata": {},
   "outputs": [],
   "source": []
  }
 ],
 "metadata": {
  "kernelspec": {
   "display_name": "Python 3 (ipykernel)",
   "language": "python",
   "name": "python3"
  },
  "language_info": {
   "codemirror_mode": {
    "name": "ipython",
    "version": 3
   },
   "file_extension": ".py",
   "mimetype": "text/x-python",
   "name": "python",
   "nbconvert_exporter": "python",
   "pygments_lexer": "ipython3",
   "version": "3.9.7"
  }
 },
 "nbformat": 4,
 "nbformat_minor": 2
}
